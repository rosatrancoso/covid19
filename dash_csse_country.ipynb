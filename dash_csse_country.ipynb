{
 "cells": [
  {
   "cell_type": "markdown",
   "metadata": {},
   "source": [
    "# Data from  Johns Hopkins University Center for Systems Science and Engineering (JHU CSSE) \n",
    "### https://github.com/CSSEGISandData/COVID-19"
   ]
  },
  {
   "cell_type": "code",
   "execution_count": 1,
   "metadata": {},
   "outputs": [],
   "source": [
    "from jupyter_plotly_dash import JupyterDash\n",
    "import dash\n",
    "import dash_core_components as dcc\n",
    "import dash_html_components as html\n",
    "from dash.dependencies import Input, Output\n",
    "\n",
    "# import plotly.express as px\n",
    "import plotly.graph_objects as go\n",
    "\n",
    "import os \n",
    "import pandas as pd\n",
    "import datetime\n",
    "\n",
    "remote_dir = 'https://raw.githubusercontent.com/CSSEGISandData/COVID-19/master/csse_covid_19_data/csse_covid_19_time_series/'\n"
   ]
  },
  {
   "cell_type": "code",
   "execution_count": 44,
   "metadata": {},
   "outputs": [],
   "source": [
    "def add_column_countries_provinces(df):\n",
    "    fmt = lambda x: '' if x == 'nan' else ' - ' + x\n",
    "    aux = df['Country/Region'].astype(str) + \\\n",
    "          df['Province/State'].astype(str).map(fmt)\n",
    "    df['countries_provinces'] = aux\n",
    "    return df \n",
    "\n",
    "def get_country_data(df, pattern, drop_cols=['Country/Region', 'Province/State', 'Lat', 'Long', 'countries_provinces']):\n",
    "    ts = df[df['countries_provinces'].str.contains(pattern)]\n",
    "    ts = ts.drop(drop_cols, axis=1)\n",
    "    return ts\n",
    "\n",
    "def get_country_dataframe(country):\n",
    "    conf = get_country_data(confirmed, country)\n",
    "    deat = get_country_data(deaths, country)\n",
    "    reco = get_country_data(recovered, country)\n",
    "    df = pd.concat({'Confirmed': conf, 'Deaths': deat, 'Recovered': reco})\n",
    "    df = df.set_index(df.index.droplevel(1))\n",
    "    df = df.T\n",
    "    df['Active (C-R-D)'] = df['Confirmed'] - df['Recovered'] - df['Deaths']\n",
    "    df['Active + Deaths (C-R)'] = df['Confirmed'] - df['Recovered']\n",
    "#     df['Dates'] = df.index\n",
    "    df.index = pd.to_datetime(df.index)\n",
    "    return df\n",
    "\n",
    "# get_country_dataframe('Portugal')"
   ]
  },
  {
   "cell_type": "code",
   "execution_count": 45,
   "metadata": {},
   "outputs": [],
   "source": [
    "# read data\n",
    "\n",
    "confirmed = pd.read_csv(os.path.join(remote_dir, 'time_series_covid19_confirmed_global.csv'))\n",
    "deaths = pd.read_csv(os.path.join(remote_dir, 'time_series_covid19_deaths_global.csv'))\n",
    "recovered = pd.read_csv(os.path.join(remote_dir, 'time_series_covid19_recovered_global.csv'))\n",
    "\n",
    "# format data\n",
    "\n",
    "confirmed = add_column_countries_provinces(confirmed)\n",
    "deaths = add_column_countries_provinces(deaths)\n",
    "recovered = add_column_countries_provinces(recovered)\n"
   ]
  },
  {
   "cell_type": "code",
   "execution_count": 47,
   "metadata": {},
   "outputs": [
    {
     "data": {
      "text/html": [
       "<div>\n",
       "<style scoped>\n",
       "    .dataframe tbody tr th:only-of-type {\n",
       "        vertical-align: middle;\n",
       "    }\n",
       "\n",
       "    .dataframe tbody tr th {\n",
       "        vertical-align: top;\n",
       "    }\n",
       "\n",
       "    .dataframe thead th {\n",
       "        text-align: right;\n",
       "    }\n",
       "</style>\n",
       "<table border=\"1\" class=\"dataframe\">\n",
       "  <thead>\n",
       "    <tr style=\"text-align: right;\">\n",
       "      <th></th>\n",
       "      <th>Confirmed</th>\n",
       "      <th>Deaths</th>\n",
       "      <th>Recovered</th>\n",
       "      <th>Active (C-R-D)</th>\n",
       "      <th>Active + Deaths (C-R)</th>\n",
       "    </tr>\n",
       "  </thead>\n",
       "  <tbody>\n",
       "    <tr>\n",
       "      <th>2020-04-25</th>\n",
       "      <td>1470</td>\n",
       "      <td>18</td>\n",
       "      <td>1142</td>\n",
       "      <td>310</td>\n",
       "      <td>328</td>\n",
       "    </tr>\n",
       "    <tr>\n",
       "      <th>2020-04-26</th>\n",
       "      <td>1469</td>\n",
       "      <td>19</td>\n",
       "      <td>1180</td>\n",
       "      <td>270</td>\n",
       "      <td>289</td>\n",
       "    </tr>\n",
       "  </tbody>\n",
       "</table>\n",
       "</div>"
      ],
      "text/plain": [
       "            Confirmed  Deaths  Recovered  Active (C-R-D)  \\\n",
       "2020-04-25       1470      18       1142             310   \n",
       "2020-04-26       1469      19       1180             270   \n",
       "\n",
       "            Active + Deaths (C-R)  \n",
       "2020-04-25                    328  \n",
       "2020-04-26                    289  "
      ]
     },
     "execution_count": 47,
     "metadata": {},
     "output_type": "execute_result"
    }
   ],
   "source": [
    "df = get_country_dataframe('New Zealand')\n",
    "df.tail(2)"
   ]
  },
  {
   "cell_type": "code",
   "execution_count": 48,
   "metadata": {},
   "outputs": [
    {
     "data": {
      "text/html": [
       "<div>\n",
       "  <iframe src=\"/app/endpoints/75c1e664f12343e3af201cc66e21c245/\" width=800 height=600 frameborder=\"0\"></iframe>\n",
       "  <hr/><a href=\"/app/endpoints/75c1e664f12343e3af201cc66e21c245/\" target=\"_new\">Open in new window</a> for /app/endpoints/75c1e664f12343e3af201cc66e21c245/\n",
       "</div>"
      ],
      "text/plain": [
       "<jupyter_plotly_dash.dash_wrapper.JupyterDash at 0x7f4e81bbd9d0>"
      ]
     },
     "execution_count": 48,
     "metadata": {},
     "output_type": "execute_result"
    }
   ],
   "source": [
    "\n",
    "app = JupyterDash('CSSE Data')\n",
    "\n",
    "app.layout = html.Div([\n",
    "    \n",
    "    dcc.Markdown('''\n",
    "# COVID-19 Data\n",
    "\n",
    "From [Johns Hopkins University Center for Systems Science and Engineering (JHU-CSSE)](https://github.com/CSSEGISandData/COVID-19)\n",
    "'''),\n",
    "    html.Label('Select country:'),\n",
    "    dcc.Dropdown(\n",
    "        id='dd-input-countries',\n",
    "        options=[{'label': x, 'value': x} for x in confirmed['countries_provinces']],\n",
    "        value='Portugal',\n",
    "        style={'width':'60%'}\n",
    "    ),\n",
    "    html.Div(id='dd-output-graph')\n",
    "])\n",
    "\n",
    "\n",
    "@app.callback(\n",
    "    dash.dependencies.Output('dd-output-graph', 'children'),\n",
    "    [dash.dependencies.Input('dd-input-countries', 'value')])\n",
    "def update_output(value):\n",
    "    if value is not '':\n",
    "        df = get_country_dataframe(value)\n",
    "        data = []\n",
    "        colors = ['blue', 'green', 'red']\n",
    "        for i,yname in enumerate(['Confirmed', 'Recovered', 'Deaths']):\n",
    "            data += [go.Scatter(x=df.index, y=df[yname],name=yname,\n",
    "                               line=dict(color=colors[i]))]        \n",
    "\n",
    "        yname = 'Active (C-R-D)'\n",
    "        data += [go.Scatter(x=df.index, y=df[yname],name=yname,\n",
    "                            line=dict(color='orange'))]\n",
    "\n",
    "        yname = 'Active + Deaths (C-R)'\n",
    "        data += [go.Scatter(x=df.index, y=df[yname],name=yname,\n",
    "                            line=dict(color='orange', dash='dot'))]\n",
    "        \n",
    "        layout = dict(title=value, \n",
    "                      xaxis_title='Dates',\n",
    "                      yaxis_title='Number of cases')\n",
    "        \n",
    "        fig = go.Figure(data=data, layout=layout)\n",
    "        graph = dcc.Graph(figure=fig)\n",
    "        return [graph]\n",
    "\n",
    "app"
   ]
  },
  {
   "cell_type": "code",
   "execution_count": null,
   "metadata": {},
   "outputs": [],
   "source": []
  },
  {
   "cell_type": "code",
   "execution_count": null,
   "metadata": {},
   "outputs": [],
   "source": [
    "conf"
   ]
  },
  {
   "cell_type": "code",
   "execution_count": null,
   "metadata": {},
   "outputs": [],
   "source": [
    "return"
   ]
  },
  {
   "cell_type": "code",
   "execution_count": null,
   "metadata": {},
   "outputs": [],
   "source": []
  }
 ],
 "metadata": {
  "kernelspec": {
   "display_name": "Python 3",
   "language": "python",
   "name": "python3"
  },
  "language_info": {
   "codemirror_mode": {
    "name": "ipython",
    "version": 3
   },
   "file_extension": ".py",
   "mimetype": "text/x-python",
   "name": "python",
   "nbconvert_exporter": "python",
   "pygments_lexer": "ipython3",
   "version": "3.7.6"
  }
 },
 "nbformat": 4,
 "nbformat_minor": 4
}
