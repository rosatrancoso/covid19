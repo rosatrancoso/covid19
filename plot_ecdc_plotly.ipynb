{
 "cells": [
  {
   "cell_type": "markdown",
   "metadata": {},
   "source": [
    "# Data from European Centre for Disease Prevention and Control (ECDC)\n",
    "### https://www.ecdc.europa.eu/en/publications-data/download-todays-data-geographic-distribution-covid-19-cases-worldwide\n"
   ]
  },
  {
   "cell_type": "code",
   "execution_count": 2,
   "metadata": {},
   "outputs": [],
   "source": [
    "from jupyter_plotly_dash import JupyterDash\n",
    "import dash\n",
    "import dash_core_components as dcc\n",
    "import dash_html_components as html\n",
    "from dash.dependencies import Input, Output\n",
    "\n",
    "import pandas as pd \n",
    "import plotly.graph_objects as go\n",
    "import plotly.express as px"
   ]
  },
  {
   "cell_type": "code",
   "execution_count": 6,
   "metadata": {},
   "outputs": [],
   "source": [
    "import urllib.request\n",
    "import datetime\n",
    "import numpy as np\n",
    "import pandas as pd \n",
    "\n",
    "import matplotlib.pyplot as plt \n",
    "# plt.style.use('classic')\n",
    "\n",
    "# import seaborn as sns\n",
    "# sns.set()\n",
    "# palette = sns.color_palette(\"bright\")\n",
    "# sns.palplot(palette)\n",
    "# palette = sns.color_palette(\"Accent\")\n",
    "# sns.palplot(palette)\n",
    "# palette = sns.color_palette(\"Paired\")\n",
    "# sns.palplot(palette)\n",
    "# palette = sns.color_palette(\"Set3\")\n",
    "# sns.palplot(palette)\n",
    "\n",
    "\n",
    "# # sns.set_palette(\"bright\", 12)\n",
    "# # sns.set_palette('Paired')\n"
   ]
  },
  {
   "cell_type": "code",
   "execution_count": 7,
   "metadata": {},
   "outputs": [
    {
     "name": "stdout",
     "output_type": "stream",
     "text": [
      "Beginning file download with urllib2...\n",
      "ecdc-data_20200411.csv\n"
     ]
    }
   ],
   "source": [
    "print('Beginning file download with urllib2...')\n",
    "url = 'https://opendata.ecdc.europa.eu/covid19/casedistribution/csv'\n",
    "filecsv = datetime.datetime.now().strftime('ecdc-data_%Y%m%d.csv')\n",
    "print(filecsv)\n",
    "# urllib.request.urlretrieve(url, filecsv)"
   ]
  },
  {
   "cell_type": "code",
   "execution_count": 8,
   "metadata": {},
   "outputs": [
    {
     "name": "stdout",
     "output_type": "stream",
     "text": [
      "ecdc-data_20200411.csv\n",
      "(10127, 10)\n"
     ]
    },
    {
     "data": {
      "text/html": [
       "<div>\n",
       "<style scoped>\n",
       "    .dataframe tbody tr th:only-of-type {\n",
       "        vertical-align: middle;\n",
       "    }\n",
       "\n",
       "    .dataframe tbody tr th {\n",
       "        vertical-align: top;\n",
       "    }\n",
       "\n",
       "    .dataframe thead th {\n",
       "        text-align: right;\n",
       "    }\n",
       "</style>\n",
       "<table border=\"1\" class=\"dataframe\">\n",
       "  <thead>\n",
       "    <tr style=\"text-align: right;\">\n",
       "      <th></th>\n",
       "      <th>dateRep</th>\n",
       "      <th>day</th>\n",
       "      <th>month</th>\n",
       "      <th>year</th>\n",
       "      <th>cases</th>\n",
       "      <th>deaths</th>\n",
       "      <th>countriesAndTerritories</th>\n",
       "      <th>geoId</th>\n",
       "      <th>countryterritoryCode</th>\n",
       "      <th>popData2018</th>\n",
       "    </tr>\n",
       "  </thead>\n",
       "  <tbody>\n",
       "    <tr>\n",
       "      <th>0</th>\n",
       "      <td>11/04/2020</td>\n",
       "      <td>11</td>\n",
       "      <td>4</td>\n",
       "      <td>2020</td>\n",
       "      <td>37</td>\n",
       "      <td>0</td>\n",
       "      <td>Afghanistan</td>\n",
       "      <td>AF</td>\n",
       "      <td>AFG</td>\n",
       "      <td>37172386.0</td>\n",
       "    </tr>\n",
       "    <tr>\n",
       "      <th>1</th>\n",
       "      <td>10/04/2020</td>\n",
       "      <td>10</td>\n",
       "      <td>4</td>\n",
       "      <td>2020</td>\n",
       "      <td>61</td>\n",
       "      <td>1</td>\n",
       "      <td>Afghanistan</td>\n",
       "      <td>AF</td>\n",
       "      <td>AFG</td>\n",
       "      <td>37172386.0</td>\n",
       "    </tr>\n",
       "    <tr>\n",
       "      <th>2</th>\n",
       "      <td>09/04/2020</td>\n",
       "      <td>9</td>\n",
       "      <td>4</td>\n",
       "      <td>2020</td>\n",
       "      <td>56</td>\n",
       "      <td>3</td>\n",
       "      <td>Afghanistan</td>\n",
       "      <td>AF</td>\n",
       "      <td>AFG</td>\n",
       "      <td>37172386.0</td>\n",
       "    </tr>\n",
       "    <tr>\n",
       "      <th>3</th>\n",
       "      <td>08/04/2020</td>\n",
       "      <td>8</td>\n",
       "      <td>4</td>\n",
       "      <td>2020</td>\n",
       "      <td>30</td>\n",
       "      <td>4</td>\n",
       "      <td>Afghanistan</td>\n",
       "      <td>AF</td>\n",
       "      <td>AFG</td>\n",
       "      <td>37172386.0</td>\n",
       "    </tr>\n",
       "    <tr>\n",
       "      <th>4</th>\n",
       "      <td>07/04/2020</td>\n",
       "      <td>7</td>\n",
       "      <td>4</td>\n",
       "      <td>2020</td>\n",
       "      <td>38</td>\n",
       "      <td>0</td>\n",
       "      <td>Afghanistan</td>\n",
       "      <td>AF</td>\n",
       "      <td>AFG</td>\n",
       "      <td>37172386.0</td>\n",
       "    </tr>\n",
       "  </tbody>\n",
       "</table>\n",
       "</div>"
      ],
      "text/plain": [
       "      dateRep  day  month  year  cases  deaths countriesAndTerritories geoId  \\\n",
       "0  11/04/2020   11      4  2020     37       0             Afghanistan    AF   \n",
       "1  10/04/2020   10      4  2020     61       1             Afghanistan    AF   \n",
       "2  09/04/2020    9      4  2020     56       3             Afghanistan    AF   \n",
       "3  08/04/2020    8      4  2020     30       4             Afghanistan    AF   \n",
       "4  07/04/2020    7      4  2020     38       0             Afghanistan    AF   \n",
       "\n",
       "  countryterritoryCode  popData2018  \n",
       "0                  AFG   37172386.0  \n",
       "1                  AFG   37172386.0  \n",
       "2                  AFG   37172386.0  \n",
       "3                  AFG   37172386.0  \n",
       "4                  AFG   37172386.0  "
      ]
     },
     "execution_count": 8,
     "metadata": {},
     "output_type": "execute_result"
    }
   ],
   "source": [
    "print(filecsv)\n",
    "tsall = pd.read_csv(filecsv)\n",
    "print(tsall.shape)\n",
    "tsall.head()"
   ]
  },
  {
   "cell_type": "code",
   "execution_count": 9,
   "metadata": {},
   "outputs": [
    {
     "data": {
      "text/html": [
       "<div>\n",
       "<style scoped>\n",
       "    .dataframe tbody tr th:only-of-type {\n",
       "        vertical-align: middle;\n",
       "    }\n",
       "\n",
       "    .dataframe tbody tr th {\n",
       "        vertical-align: top;\n",
       "    }\n",
       "\n",
       "    .dataframe thead th {\n",
       "        text-align: right;\n",
       "    }\n",
       "</style>\n",
       "<table border=\"1\" class=\"dataframe\">\n",
       "  <thead>\n",
       "    <tr style=\"text-align: right;\">\n",
       "      <th></th>\n",
       "      <th>dateRep</th>\n",
       "      <th>cases</th>\n",
       "      <th>deaths</th>\n",
       "      <th>countriesAndTerritories</th>\n",
       "      <th>popData2018</th>\n",
       "    </tr>\n",
       "  </thead>\n",
       "  <tbody>\n",
       "    <tr>\n",
       "      <th>0</th>\n",
       "      <td>11/04/2020</td>\n",
       "      <td>37</td>\n",
       "      <td>0</td>\n",
       "      <td>Afghanistan</td>\n",
       "      <td>37172386.0</td>\n",
       "    </tr>\n",
       "    <tr>\n",
       "      <th>1</th>\n",
       "      <td>10/04/2020</td>\n",
       "      <td>61</td>\n",
       "      <td>1</td>\n",
       "      <td>Afghanistan</td>\n",
       "      <td>37172386.0</td>\n",
       "    </tr>\n",
       "  </tbody>\n",
       "</table>\n",
       "</div>"
      ],
      "text/plain": [
       "      dateRep  cases  deaths countriesAndTerritories  popData2018\n",
       "0  11/04/2020     37       0             Afghanistan   37172386.0\n",
       "1  10/04/2020     61       1             Afghanistan   37172386.0"
      ]
     },
     "execution_count": 9,
     "metadata": {},
     "output_type": "execute_result"
    }
   ],
   "source": [
    "keep_cols = ['dateRep', 'cases', 'deaths', 'countriesAndTerritories', 'popData2018']\n",
    "tsall = tsall[keep_cols]\n",
    "tsall.head(2)"
   ]
  },
  {
   "cell_type": "code",
   "execution_count": 10,
   "metadata": {},
   "outputs": [
    {
     "data": {
      "text/html": [
       "<div>\n",
       "<style scoped>\n",
       "    .dataframe tbody tr th:only-of-type {\n",
       "        vertical-align: middle;\n",
       "    }\n",
       "\n",
       "    .dataframe tbody tr th {\n",
       "        vertical-align: top;\n",
       "    }\n",
       "\n",
       "    .dataframe thead th {\n",
       "        text-align: right;\n",
       "    }\n",
       "</style>\n",
       "<table border=\"1\" class=\"dataframe\">\n",
       "  <thead>\n",
       "    <tr style=\"text-align: right;\">\n",
       "      <th></th>\n",
       "      <th>dateRep</th>\n",
       "      <th>cases</th>\n",
       "      <th>deaths</th>\n",
       "      <th>countriesAndTerritories</th>\n",
       "      <th>popData2018</th>\n",
       "      <th>cases_pop</th>\n",
       "      <th>deaths_pop</th>\n",
       "    </tr>\n",
       "  </thead>\n",
       "  <tbody>\n",
       "    <tr>\n",
       "      <th>0</th>\n",
       "      <td>2020-04-11</td>\n",
       "      <td>37</td>\n",
       "      <td>0</td>\n",
       "      <td>Afghanistan</td>\n",
       "      <td>37172386.0</td>\n",
       "      <td>0.000100</td>\n",
       "      <td>0.000000</td>\n",
       "    </tr>\n",
       "    <tr>\n",
       "      <th>1</th>\n",
       "      <td>2020-04-10</td>\n",
       "      <td>61</td>\n",
       "      <td>1</td>\n",
       "      <td>Afghanistan</td>\n",
       "      <td>37172386.0</td>\n",
       "      <td>0.000164</td>\n",
       "      <td>0.000003</td>\n",
       "    </tr>\n",
       "  </tbody>\n",
       "</table>\n",
       "</div>"
      ],
      "text/plain": [
       "     dateRep  cases  deaths countriesAndTerritories  popData2018  cases_pop  \\\n",
       "0 2020-04-11     37       0             Afghanistan   37172386.0   0.000100   \n",
       "1 2020-04-10     61       1             Afghanistan   37172386.0   0.000164   \n",
       "\n",
       "   deaths_pop  \n",
       "0    0.000000  \n",
       "1    0.000003  "
      ]
     },
     "execution_count": 10,
     "metadata": {},
     "output_type": "execute_result"
    }
   ],
   "source": [
    "tsall['dateRep'] = pd.to_datetime(tsall['dateRep'], format='%d/%m/%Y')\n",
    "tsall['cases_pop'] = tsall['cases']/tsall['popData2018']*100.\n",
    "tsall['deaths_pop'] = tsall['deaths']/tsall['popData2018']*100.\n",
    "tsall.head(2)"
   ]
  },
  {
   "cell_type": "code",
   "execution_count": 11,
   "metadata": {},
   "outputs": [
    {
     "name": "stdout",
     "output_type": "stream",
     "text": [
      "(649, 7)\n"
     ]
    },
    {
     "data": {
      "text/html": [
       "<div>\n",
       "<style scoped>\n",
       "    .dataframe tbody tr th:only-of-type {\n",
       "        vertical-align: middle;\n",
       "    }\n",
       "\n",
       "    .dataframe tbody tr th {\n",
       "        vertical-align: top;\n",
       "    }\n",
       "\n",
       "    .dataframe thead th {\n",
       "        text-align: right;\n",
       "    }\n",
       "</style>\n",
       "<table border=\"1\" class=\"dataframe\">\n",
       "  <thead>\n",
       "    <tr style=\"text-align: right;\">\n",
       "      <th></th>\n",
       "      <th>dateRep</th>\n",
       "      <th>cases</th>\n",
       "      <th>deaths</th>\n",
       "      <th>countriesAndTerritories</th>\n",
       "      <th>popData2018</th>\n",
       "      <th>cases_pop</th>\n",
       "      <th>deaths_pop</th>\n",
       "    </tr>\n",
       "  </thead>\n",
       "  <tbody>\n",
       "    <tr>\n",
       "      <th>567</th>\n",
       "      <td>2020-04-11</td>\n",
       "      <td>312</td>\n",
       "      <td>24</td>\n",
       "      <td>Austria</td>\n",
       "      <td>8847037.0</td>\n",
       "      <td>0.003527</td>\n",
       "      <td>0.000271</td>\n",
       "    </tr>\n",
       "    <tr>\n",
       "      <th>568</th>\n",
       "      <td>2020-04-10</td>\n",
       "      <td>279</td>\n",
       "      <td>22</td>\n",
       "      <td>Austria</td>\n",
       "      <td>8847037.0</td>\n",
       "      <td>0.003154</td>\n",
       "      <td>0.000249</td>\n",
       "    </tr>\n",
       "    <tr>\n",
       "      <th>569</th>\n",
       "      <td>2020-04-09</td>\n",
       "      <td>329</td>\n",
       "      <td>30</td>\n",
       "      <td>Austria</td>\n",
       "      <td>8847037.0</td>\n",
       "      <td>0.003719</td>\n",
       "      <td>0.000339</td>\n",
       "    </tr>\n",
       "    <tr>\n",
       "      <th>570</th>\n",
       "      <td>2020-04-08</td>\n",
       "      <td>343</td>\n",
       "      <td>23</td>\n",
       "      <td>Austria</td>\n",
       "      <td>8847037.0</td>\n",
       "      <td>0.003877</td>\n",
       "      <td>0.000260</td>\n",
       "    </tr>\n",
       "    <tr>\n",
       "      <th>571</th>\n",
       "      <td>2020-04-07</td>\n",
       "      <td>314</td>\n",
       "      <td>16</td>\n",
       "      <td>Austria</td>\n",
       "      <td>8847037.0</td>\n",
       "      <td>0.003549</td>\n",
       "      <td>0.000181</td>\n",
       "    </tr>\n",
       "  </tbody>\n",
       "</table>\n",
       "</div>"
      ],
      "text/plain": [
       "       dateRep  cases  deaths countriesAndTerritories  popData2018  cases_pop  \\\n",
       "567 2020-04-11    312      24                 Austria    8847037.0   0.003527   \n",
       "568 2020-04-10    279      22                 Austria    8847037.0   0.003154   \n",
       "569 2020-04-09    329      30                 Austria    8847037.0   0.003719   \n",
       "570 2020-04-08    343      23                 Austria    8847037.0   0.003877   \n",
       "571 2020-04-07    314      16                 Austria    8847037.0   0.003549   \n",
       "\n",
       "     deaths_pop  \n",
       "567    0.000271  \n",
       "568    0.000249  \n",
       "569    0.000339  \n",
       "570    0.000260  \n",
       "571    0.000181  "
      ]
     },
     "execution_count": 11,
     "metadata": {},
     "output_type": "execute_result"
    }
   ],
   "source": [
    "select = ['Portugal', 'New_Zealand', 'Spain', 'France', 'Italy', 'Belgium', 'Austria']\n",
    "ts = tsall[tsall['countriesAndTerritories'].isin(select)]\n",
    "print(ts.shape)\n",
    "ts.head()"
   ]
  },
  {
   "cell_type": "code",
   "execution_count": 12,
   "metadata": {},
   "outputs": [],
   "source": [
    "ts = tsall.copy()"
   ]
  },
  {
   "cell_type": "markdown",
   "metadata": {},
   "source": [
    "# Plot latest numbers"
   ]
  },
  {
   "cell_type": "code",
   "execution_count": 13,
   "metadata": {},
   "outputs": [
    {
     "name": "stdout",
     "output_type": "stream",
     "text": [
      "2020-04-11 00:00:00\n",
      "(205, 7)\n"
     ]
    },
    {
     "data": {
      "text/html": [
       "<div>\n",
       "<style scoped>\n",
       "    .dataframe tbody tr th:only-of-type {\n",
       "        vertical-align: middle;\n",
       "    }\n",
       "\n",
       "    .dataframe tbody tr th {\n",
       "        vertical-align: top;\n",
       "    }\n",
       "\n",
       "    .dataframe thead th {\n",
       "        text-align: right;\n",
       "    }\n",
       "</style>\n",
       "<table border=\"1\" class=\"dataframe\">\n",
       "  <thead>\n",
       "    <tr style=\"text-align: right;\">\n",
       "      <th></th>\n",
       "      <th>dateRep</th>\n",
       "      <th>cases</th>\n",
       "      <th>deaths</th>\n",
       "      <th>countriesAndTerritories</th>\n",
       "      <th>popData2018</th>\n",
       "      <th>cases_pop</th>\n",
       "      <th>deaths_pop</th>\n",
       "    </tr>\n",
       "  </thead>\n",
       "  <tbody>\n",
       "    <tr>\n",
       "      <th>0</th>\n",
       "      <td>2020-04-11</td>\n",
       "      <td>37</td>\n",
       "      <td>0</td>\n",
       "      <td>Afghanistan</td>\n",
       "      <td>37172386.0</td>\n",
       "      <td>0.000100</td>\n",
       "      <td>0.000000</td>\n",
       "    </tr>\n",
       "    <tr>\n",
       "      <th>93</th>\n",
       "      <td>2020-04-11</td>\n",
       "      <td>7</td>\n",
       "      <td>0</td>\n",
       "      <td>Albania</td>\n",
       "      <td>2866376.0</td>\n",
       "      <td>0.000244</td>\n",
       "      <td>0.000000</td>\n",
       "    </tr>\n",
       "    <tr>\n",
       "      <th>127</th>\n",
       "      <td>2020-04-11</td>\n",
       "      <td>95</td>\n",
       "      <td>21</td>\n",
       "      <td>Algeria</td>\n",
       "      <td>42228429.0</td>\n",
       "      <td>0.000225</td>\n",
       "      <td>0.000050</td>\n",
       "    </tr>\n",
       "    <tr>\n",
       "      <th>225</th>\n",
       "      <td>2020-04-11</td>\n",
       "      <td>18</td>\n",
       "      <td>1</td>\n",
       "      <td>Andorra</td>\n",
       "      <td>77006.0</td>\n",
       "      <td>0.023375</td>\n",
       "      <td>0.001299</td>\n",
       "    </tr>\n",
       "    <tr>\n",
       "      <th>254</th>\n",
       "      <td>2020-04-11</td>\n",
       "      <td>0</td>\n",
       "      <td>0</td>\n",
       "      <td>Angola</td>\n",
       "      <td>30809762.0</td>\n",
       "      <td>0.000000</td>\n",
       "      <td>0.000000</td>\n",
       "    </tr>\n",
       "    <tr>\n",
       "      <th>...</th>\n",
       "      <td>...</td>\n",
       "      <td>...</td>\n",
       "      <td>...</td>\n",
       "      <td>...</td>\n",
       "      <td>...</td>\n",
       "      <td>...</td>\n",
       "      <td>...</td>\n",
       "    </tr>\n",
       "    <tr>\n",
       "      <th>9952</th>\n",
       "      <td>2020-04-11</td>\n",
       "      <td>4</td>\n",
       "      <td>0</td>\n",
       "      <td>Venezuela</td>\n",
       "      <td>28870195.0</td>\n",
       "      <td>0.000014</td>\n",
       "      <td>0.000000</td>\n",
       "    </tr>\n",
       "    <tr>\n",
       "      <th>9980</th>\n",
       "      <td>2020-04-11</td>\n",
       "      <td>0</td>\n",
       "      <td>0</td>\n",
       "      <td>Vietnam</td>\n",
       "      <td>95540395.0</td>\n",
       "      <td>0.000000</td>\n",
       "      <td>0.000000</td>\n",
       "    </tr>\n",
       "    <tr>\n",
       "      <th>10079</th>\n",
       "      <td>2020-04-11</td>\n",
       "      <td>0</td>\n",
       "      <td>0</td>\n",
       "      <td>Yemen</td>\n",
       "      <td>28498687.0</td>\n",
       "      <td>0.000000</td>\n",
       "      <td>0.000000</td>\n",
       "    </tr>\n",
       "    <tr>\n",
       "      <th>10081</th>\n",
       "      <td>2020-04-11</td>\n",
       "      <td>1</td>\n",
       "      <td>1</td>\n",
       "      <td>Zambia</td>\n",
       "      <td>17351822.0</td>\n",
       "      <td>0.000006</td>\n",
       "      <td>0.000006</td>\n",
       "    </tr>\n",
       "    <tr>\n",
       "      <th>10105</th>\n",
       "      <td>2020-04-11</td>\n",
       "      <td>0</td>\n",
       "      <td>0</td>\n",
       "      <td>Zimbabwe</td>\n",
       "      <td>14439018.0</td>\n",
       "      <td>0.000000</td>\n",
       "      <td>0.000000</td>\n",
       "    </tr>\n",
       "  </tbody>\n",
       "</table>\n",
       "<p>205 rows × 7 columns</p>\n",
       "</div>"
      ],
      "text/plain": [
       "         dateRep  cases  deaths countriesAndTerritories  popData2018  \\\n",
       "0     2020-04-11     37       0             Afghanistan   37172386.0   \n",
       "93    2020-04-11      7       0                 Albania    2866376.0   \n",
       "127   2020-04-11     95      21                 Algeria   42228429.0   \n",
       "225   2020-04-11     18       1                 Andorra      77006.0   \n",
       "254   2020-04-11      0       0                  Angola   30809762.0   \n",
       "...          ...    ...     ...                     ...          ...   \n",
       "9952  2020-04-11      4       0               Venezuela   28870195.0   \n",
       "9980  2020-04-11      0       0                 Vietnam   95540395.0   \n",
       "10079 2020-04-11      0       0                   Yemen   28498687.0   \n",
       "10081 2020-04-11      1       1                  Zambia   17351822.0   \n",
       "10105 2020-04-11      0       0                Zimbabwe   14439018.0   \n",
       "\n",
       "       cases_pop  deaths_pop  \n",
       "0       0.000100    0.000000  \n",
       "93      0.000244    0.000000  \n",
       "127     0.000225    0.000050  \n",
       "225     0.023375    0.001299  \n",
       "254     0.000000    0.000000  \n",
       "...          ...         ...  \n",
       "9952    0.000014    0.000000  \n",
       "9980    0.000000    0.000000  \n",
       "10079   0.000000    0.000000  \n",
       "10081   0.000006    0.000006  \n",
       "10105   0.000000    0.000000  \n",
       "\n",
       "[205 rows x 7 columns]"
      ]
     },
     "execution_count": 13,
     "metadata": {},
     "output_type": "execute_result"
    }
   ],
   "source": [
    "timef = ts.iloc[0]['dateRep']\n",
    "print(timef)\n",
    "latest = ts[ts['dateRep']==timef]\n",
    "print(latest.shape)\n",
    "latest"
   ]
  },
  {
   "cell_type": "markdown",
   "metadata": {},
   "source": [
    "### Remove the big countries"
   ]
  },
  {
   "cell_type": "code",
   "execution_count": 44,
   "metadata": {},
   "outputs": [
    {
     "name": "stdout",
     "output_type": "stream",
     "text": [
      "countriesAndTerritories\n",
      "Philippines                 1.066519e+08\n",
      "Ethiopia                    1.092246e+08\n",
      "Mexico                      1.261908e+08\n",
      "Japan                       1.265291e+08\n",
      "Russia                      1.444780e+08\n",
      "Bangladesh                  1.613560e+08\n",
      "Nigeria                     1.958747e+08\n",
      "Brazil                      2.094693e+08\n",
      "Pakistan                    2.122150e+08\n",
      "Indonesia                   2.676634e+08\n",
      "United_States_of_America    3.271674e+08\n",
      "India                       1.352617e+09\n",
      "China                       1.392730e+09\n",
      "Name: popData2018, dtype: float64\n"
     ]
    },
    {
     "data": {
      "image/png": "[encoded data removed]",
      "text/plain": [
       "<Figure size 432x288 with 1 Axes>"
      ]
     },
     "metadata": {
      "needs_background": "light"
     },
     "output_type": "display_data"
    }
   ],
   "source": [
    "pop_max = 1.e8\n",
    "pop = latest.groupby('countriesAndTerritories').first()['popData2018']\n",
    "pop = pop.sort_values()\n",
    "biggies = pop[pop>pop_max]\n",
    "print(biggies)\n",
    "ax = biggies.plot(kind='bar')\n",
    "_ = ax.axhline(y=pop_max, color='r')"
   ]
  },
  {
   "cell_type": "code",
   "execution_count": 45,
   "metadata": {},
   "outputs": [
    {
     "name": "stdout",
     "output_type": "stream",
     "text": [
      "countriesAndTerritories\n",
      "Philippines    106651922.0\n",
      "Ethiopia       109224559.0\n",
      "Name: popData2018, dtype: float64\n"
     ]
    },
    {
     "data": {
      "text/html": [
       "<div>\n",
       "  <iframe src=\"/app/endpoints/9926e5da9b1e4874b44a239cb2ec9021/\" width=800 height=600 frameborder=\"0\"></iframe>\n",
       "  <hr/><a href=\"/app/endpoints/9926e5da9b1e4874b44a239cb2ec9021/\" target=\"_new\">Open in new window</a> for /app/endpoints/9926e5da9b1e4874b44a239cb2ec9021/\n",
       "</div>"
      ],
      "text/plain": [
       "<jupyter_plotly_dash.dash_wrapper.JupyterDash at 0x7f662c5b73d0>"
      ]
     },
     "execution_count": 45,
     "metadata": {},
     "output_type": "execute_result"
    }
   ],
   "source": [
    "print(biggies.head(2))\n",
    "\n",
    "fig = px.bar(biggies.reset_index(), \n",
    "             x='countriesAndTerritories', \n",
    "             y='popData2018',\n",
    "             text='popData2018')\n",
    "\n",
    "fig.update_traces(texttemplate='%{text:.2s}', textposition='outside')\n",
    "fig.update_layout(uniformtext_minsize=8, uniformtext_mode='hide')\n",
    "\n",
    "app = JupyterDash('SimpleGraph')\n",
    "app.layout = html.Div([\n",
    "    dcc.Graph(figure=fig)\n",
    "])\n",
    "app\n",
    "\n",
    "\n"
   ]
  },
  {
   "cell_type": "code",
   "execution_count": 58,
   "metadata": {},
   "outputs": [
    {
     "name": "stdout",
     "output_type": "stream",
     "text": [
      "countriesAndTerritories\n",
      "Philippines    106651922.0\n",
      "Ethiopia       109224559.0\n",
      "Name: popData2018, dtype: float64\n"
     ]
    },
    {
     "data": {
      "text/html": [
       "<div>\n",
       "  <iframe src=\"/app/endpoints/7f936d9822ba4bf8bb40850aaa134bb5/\" width=800 height=600 frameborder=\"0\"></iframe>\n",
       "  <hr/><a href=\"/app/endpoints/7f936d9822ba4bf8bb40850aaa134bb5/\" target=\"_new\">Open in new window</a> for /app/endpoints/7f936d9822ba4bf8bb40850aaa134bb5/\n",
       "</div>"
      ],
      "text/plain": [
       "<jupyter_plotly_dash.dash_wrapper.JupyterDash at 0x7f6626906450>"
      ]
     },
     "execution_count": 58,
     "metadata": {},
     "output_type": "execute_result"
    }
   ],
   "source": [
    "import plotly.graph_objects as go\n",
    "\n",
    "print(biggies.head(2))\n",
    "\n",
    "fig = go.Figure()\n",
    "\n",
    "fig.add_trace(\n",
    "    go.Bar(\n",
    "        x=biggies.index,\n",
    "        y=biggies.values,\n",
    "        text=biggies.values,\n",
    "    ))\n",
    "\n",
    "fig.update_traces(texttemplate='%{text:.2s}', textposition='outside')\n",
    "fig.update_layout(uniformtext_minsize=8, uniformtext_mode='hide')\n",
    "\n",
    "\n",
    "# fig.add_trace(\n",
    "#     go.Scatter(\n",
    "#         mode='lines',\n",
    "#         x=biggies.index,\n",
    "#         y=[pop_max]*len(biggies.index),\n",
    "#     ))\n",
    "\n",
    "fig.update_layout(shapes=[\n",
    "    dict(type='line', \n",
    "         xref='paper', x0=0, x1=1,\n",
    "         yref='y', y0=pop_max, y1=pop_max)])\n",
    "\n",
    "app = JupyterDash('SimpleGraph')\n",
    "app.layout = html.Div([\n",
    "    dcc.Graph(figure=fig)\n",
    "])\n",
    "app\n",
    "\n",
    "\n"
   ]
  },
  {
   "cell_type": "code",
   "execution_count": 59,
   "metadata": {},
   "outputs": [
    {
     "name": "stdout",
     "output_type": "stream",
     "text": [
      "(205, 7)\n",
      "(192, 7)\n"
     ]
    }
   ],
   "source": [
    "print(latest.shape)\n",
    "latest = latest[~latest['countriesAndTerritories'].isin(biggies.index)]\n",
    "print(latest.shape)"
   ]
  },
  {
   "cell_type": "code",
   "execution_count": 60,
   "metadata": {},
   "outputs": [
    {
     "name": "stdout",
     "output_type": "stream",
     "text": [
      "['Netherlands' 'Canada' 'Portugal' 'Belgium' 'Iran' 'Ecuador' 'Italy'\n",
      " 'Germany' 'France' 'Spain' 'Turkey' 'United_Kingdom']\n"
     ]
    },
    {
     "data": {
      "image/png": "[encoded data removed]",
      "text/plain": [
       "<Figure size 720x576 with 3 Axes>"
      ]
     },
     "metadata": {
      "needs_background": "light"
     },
     "output_type": "display_data"
    }
   ],
   "source": [
    "cases_max = 1000\n",
    "latest2 = latest[latest['cases']>cases_max]\n",
    "tsx = latest2.sort_values('cases')\n",
    "tsx\n",
    "\n",
    "fig, axs = plt.subplots(3,1, figsize=(10,8), sharex=True)\n",
    "ax = axs[0]\n",
    "tsx.plot(ax=ax, kind='bar', y=['cases', 'deaths'], x='countriesAndTerritories')\n",
    "ax.set_ylabel('#')\n",
    "\n",
    "ax = axs[1]\n",
    "tsx.plot(ax=ax, kind='bar', y=['cases_pop', 'deaths_pop'], x='countriesAndTerritories')\n",
    "ax.set_ylabel('% per capita')\n",
    "\n",
    "ax = axs[2]\n",
    "tsx.plot(ax=ax, kind='bar', y='popData2018', x='countriesAndTerritories')\n",
    "ax.set_ylabel('#')\n",
    "\n",
    "axs[0].set_title('More than {cases_max} cases by {timef:%Y-%m-%d}'.format(cases_max=cases_max, timef=timef))\n",
    "\n",
    "countries_ordered = tsx['countriesAndTerritories'].values\n",
    "print(countries_ordered)"
   ]
  },
  {
   "cell_type": "code",
   "execution_count": null,
   "metadata": {},
   "outputs": [],
   "source": [
    "cases_pop_max = 0.01 \n",
    "latest2 = latest[latest['cases_pop'] > cases_pop_max]\n",
    "tsx = latest2.sort_values('cases_pop')\n",
    "tsx\n",
    "\n",
    "fig, axs = plt.subplots(2,1, figsize=(10,6), sharex=True)\n",
    "ax = axs[0]\n",
    "tsx.plot(ax=ax, kind='bar', y=['cases_pop', 'deaths_pop'], x='countriesAndTerritories')\n",
    "_ = ax.set_title(timef)\n",
    "ax = axs[1]\n",
    "tsx.plot(ax=ax, kind='bar', y='popData2018', x='countriesAndTerritories')\n",
    "\n",
    "axs[0].set_title('More than {cases_pop_max} % cases by {timef:%Y-%m-%d}'.format(\n",
    "    cases_pop_max=cases_pop_max, timef=timef))\n",
    "\n",
    "countries_ordered_pop = tsx['countriesAndTerritories'].values\n",
    "print(countries_ordered_pop)\n"
   ]
  },
  {
   "cell_type": "markdown",
   "metadata": {},
   "source": [
    "# Plot time series \"days since 0\""
   ]
  },
  {
   "cell_type": "code",
   "execution_count": null,
   "metadata": {},
   "outputs": [],
   "source": [
    "bycountries = ts.groupby('countriesAndTerritories')\n",
    "cases0 = {}\n",
    "deaths0 = {}\n",
    "tsnew = {}\n",
    "for country,index in bycountries.groups.items():\n",
    "#     print(country, len(index))\n",
    "#     print(ts.loc[index].shape)\n",
    "\n",
    "    ts1 = ts.loc[index]\n",
    "    \n",
    "    try:\n",
    "        i0 = np.where(ts1['cases']==0)[0][0]\n",
    "    except IndexError:\n",
    "        i0 = ts1['cases'].shape[0]-1\n",
    "    day_cases0 = ts1.iloc[i0]['dateRep']  # last day with cases 0\n",
    "    ts1['days_since_cases0'] = (ts1['dateRep'] - day_cases0) / np.timedelta64(1,'D')\n",
    "\n",
    "    try:\n",
    "        i0 = np.where(ts1['deaths']==0)[0][0]\n",
    "    except IndexError:\n",
    "        i0 = ts1['deaths'].shape[0]-1\n",
    "    day_deaths0 = ts1.iloc[i0]['dateRep']  # last day with deaths 0\n",
    "    ts1['days_since_deaths0'] = (ts1['dateRep'] - day_deaths0) / np.timedelta64(1,'D')\n",
    "\n",
    "    cases0[country] = day_cases0\n",
    "    deaths0[country] = day_deaths0\n",
    "    tsnew[country] = ts1\n",
    "\n",
    "tsnew = pd.concat(tsnew, ignore_index=True)\n",
    "tsnew.head(2)"
   ]
  },
  {
   "cell_type": "code",
   "execution_count": null,
   "metadata": {},
   "outputs": [],
   "source": [
    "palette = sns.color_palette(\"RdBu_r\", len(countries_ordered))\n",
    "sns.palplot(palette)\n",
    "sns.set_palette(palette)"
   ]
  },
  {
   "cell_type": "code",
   "execution_count": null,
   "metadata": {},
   "outputs": [],
   "source": [
    "# import matplotlib.pyplot as plt \n",
    "# fig, ax = plt.subplots(figsize=(10,4))\n",
    "# for key, grp in tsnew.groupby(['countriesAndTerritories']):\n",
    "#     ax.plot(grp['days_since_cases0'], grp['cases'], label=key)\n",
    "\n",
    "# ax.legend()\n",
    "# ax.set_xlim([0,50])\n",
    "# ax.grid()\n",
    "\n",
    "fig, axs = plt.subplots(2,1, figsize=(10,8), sharex=False, sharey=False)\n",
    "\n",
    "tb = pd.pivot_table(tsnew,\n",
    "                    index='days_since_cases0', \n",
    "                    columns='countriesAndTerritories', \n",
    "                    values='cases')\n",
    "\n",
    "ax = axs[0]\n",
    "tb[countries_ordered].plot(ax=ax, legend=False)\n",
    "ax.set_ylabel('# cases')\n",
    "ax.set_xlim([0,50])\n",
    "\n",
    "tb = pd.pivot_table(tsnew,\n",
    "                    index='days_since_cases0', \n",
    "                    columns='countriesAndTerritories', \n",
    "                    values='cases_pop')\n",
    "\n",
    "ax = axs[1]\n",
    "tb[countries_ordered].plot(ax=ax, legend=False)\n",
    "ax.set_ylabel('% cases per capita')\n",
    "ax.set_xlim([0,50])\n",
    "\n",
    "axs[0].legend(bbox_to_anchor=(1.1,0.5))"
   ]
  },
  {
   "cell_type": "code",
   "execution_count": null,
   "metadata": {},
   "outputs": [],
   "source": [
    "\n",
    "fig, axs = plt.subplots(2,2, figsize=(12,8), sharex=False, sharey=False)\n",
    "\n",
    "tb = pd.pivot_table(tsnew, \n",
    "                    columns='countriesAndTerritories', \n",
    "                    index='days_since_cases0', \n",
    "                    values='cases')\n",
    "\n",
    "ax = axs[0,0]\n",
    "tb[countries_ordered].plot(ax=ax, legend=False)\n",
    "ax.set_xlim([0,50])\n",
    "ax.set_ylabel('cases')\n",
    "\n",
    "tb = pd.pivot_table(tsnew, \n",
    "                    columns='countriesAndTerritories', \n",
    "                    index='days_since_cases0', \n",
    "                    values='cases_pop')\n",
    "\n",
    "ax = axs[1,0]\n",
    "tb[countries_ordered].plot(ax=ax, legend=False)\n",
    "ax.set_xlim([0,50])\n",
    "ax.set_ylabel('cases_pop')\n",
    "\n",
    "tb = pd.pivot_table(tsnew, \n",
    "                    columns='countriesAndTerritories', \n",
    "                    index='days_since_deaths0', \n",
    "                    values='cases')\n",
    "\n",
    "ax = axs[0,1]\n",
    "tb[countries_ordered].plot(ax=ax, legend=False)\n",
    "ax.set_xlim([0,50])\n",
    "ax.set_ylabel('cases')\n",
    "\n",
    "tb = pd.pivot_table(tsnew, \n",
    "                    columns='countriesAndTerritories', \n",
    "                    index='days_since_deaths0', \n",
    "                    values='cases_pop')\n",
    "\n",
    "ax = axs[1,1]\n",
    "tb[countries_ordered].plot(ax=ax, legend=False)\n",
    "ax.set_xlim([0,50])\n",
    "ax.set_ylabel('cases_pop')\n",
    "\n",
    "axs[0,1].legend(bbox_to_anchor=(1.1,0.5))\n"
   ]
  },
  {
   "cell_type": "code",
   "execution_count": null,
   "metadata": {},
   "outputs": [],
   "source": []
  }
 ],
 "metadata": {
  "kernelspec": {
   "display_name": "Python 3",
   "language": "python",
   "name": "python3"
  },
  "language_info": {
   "codemirror_mode": {
    "name": "ipython",
    "version": 3
   },
   "file_extension": ".py",
   "mimetype": "text/x-python",
   "name": "python",
   "nbconvert_exporter": "python",
   "pygments_lexer": "ipython3",
   "version": "3.7.6"
  }
 },
 "nbformat": 4,
 "nbformat_minor": 4
}
